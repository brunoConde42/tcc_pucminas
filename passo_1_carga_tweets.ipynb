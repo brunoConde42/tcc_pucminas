{
 "cells": [
  {
   "cell_type": "markdown",
   "metadata": {},
   "source": [
    "# Carga dos Tweets ANS\n",
    "Neste python será realizada a carga de um arquivo contendo tweets para realização de análise de sentimento.\n",
    "Para isso será necessário:\n",
    "    1. Instalar a biblioteca tweepy para tratamento dos dados\n",
    "    2. definir as varíaveis necessárias para se autenticar na APi do Twwiter \n",
    "    3. Iniciar a API\n",
    "    4. Realizar a pesquisa na API\n",
    "    5. Salvar o resultado"
   ]
  },
  {
   "cell_type": "code",
   "execution_count": null,
   "metadata": {},
   "outputs": [],
   "source": [
    "!pip install tweepy"
   ]
  },
  {
   "cell_type": "code",
   "execution_count": 2,
   "metadata": {},
   "outputs": [],
   "source": [
    "import tweepy as tw\n",
    "import pandas as pd"
   ]
  },
  {
   "cell_type": "code",
   "execution_count": 3,
   "metadata": {},
   "outputs": [],
   "source": [
    "#variaveis\n",
    "consumer_key = \"***\"\n",
    "consumer_secret = \"***\"\n",
    "access_token = \"***\"\n",
    "access_token_secret = \"***\""
   ]
  },
  {
   "cell_type": "code",
   "execution_count": 7,
   "metadata": {},
   "outputs": [],
   "source": [
    "#definindo as variaveis de autenticacao e iniciando API\n",
    "auth = tw.OAuthHandler(consumer_key, consumer_secret)\n",
    "auth.set_access_token(access_token, access_token_secret)\n",
    "api = tw.API(auth,wait_on_rate_limit=True)"
   ]
  },
  {
   "cell_type": "code",
   "execution_count": 9,
   "metadata": {},
   "outputs": [
    {
     "data": {
      "text/plain": [
       "(651, 12)"
      ]
     },
     "execution_count": 9,
     "metadata": {},
     "output_type": "execute_result"
    }
   ],
   "source": [
    "#definindo palavras chave\n",
    "search_words = \"(@ANS_Reguladora) OR #ANS OR #planosdesaude OR (@hapvidasaude) OR (@unimedbh) OR (@sulamerica) OR (@bradescoseguros) OR #HAPVIDA OR #SULAMERICA OR #UNIMEDBH OR #BRADESCOSEGUROS\" + \" -filter:retweets\"\n",
    "\n",
    "#coletando tweets\n",
    "tweets = tw.Cursor(api.search,\n",
    "              q=search_words,\n",
    "              lang=\"pt\").items(1000)\n",
    "\n",
    "dados = [[tweet.id,\n",
    "          tweet.text,\n",
    "          tweet.created_at,\n",
    "          tweet.retweet_count,\n",
    "          tweet.favorite_count,\n",
    "          tweet.user.screen_name, \n",
    "          tweet.user.location,\n",
    "          tweet.user.description,\n",
    "          tweet.user.verified,\n",
    "          tweet.user.followers_count,\n",
    "          tweet.user.friends_count,\n",
    "          tweet.user.created_at] for tweet in tweets]\n",
    "\n",
    "df = pd.DataFrame(data=dados, \n",
    "                        columns=['id','text', \"created_at\", 'retweet_count',\n",
    "                                 'favorite_count','user_screen_name','user_location','user_description','user_verified',\n",
    "                                 'followers_count','friends_count','user_created_at'])\n",
    "df.shape"
   ]
  },
  {
   "cell_type": "code",
   "execution_count": 10,
   "metadata": {},
   "outputs": [],
   "source": [
    "#gravando o dataset\n",
    "df.to_pickle('dados_twitter_ans.pkl')"
   ]
  }
 ],
 "metadata": {
  "kernelspec": {
   "display_name": "Python 3",
   "language": "python",
   "name": "python3"
  },
  "language_info": {
   "codemirror_mode": {
    "name": "ipython",
    "version": 3
   },
   "file_extension": ".py",
   "mimetype": "text/x-python",
   "name": "python",
   "nbconvert_exporter": "python",
   "pygments_lexer": "ipython3",
   "version": "3.7.4"
  }
 },
 "nbformat": 4,
 "nbformat_minor": 2
}
